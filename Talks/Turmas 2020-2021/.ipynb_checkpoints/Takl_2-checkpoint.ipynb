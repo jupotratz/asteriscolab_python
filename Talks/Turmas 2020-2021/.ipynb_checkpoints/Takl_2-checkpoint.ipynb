{
 "cells": [
  {
   "cell_type": "markdown",
   "metadata": {
    "id": "80btK5XbwZYO"
   },
   "source": [
    "<img src=\"https://github.com/jupotratz/Python_BI_Master/blob/main/Turmas/2021.3/Imagens/sep.png?raw=true\"  width=1000 height=125 />"
   ]
  },
  {
   "cell_type": "markdown",
   "metadata": {
    "id": "QzcePa9W8N_Y"
   },
   "source": [
    "# Professoras\n",
    "\n",
    " - Amanda Lemette \n",
    "\t - prof.amanda@ica.ele.puc-rio.br\n",
    "\t - [Linkedin](https://www.linkedin.com/in/amanda-lemette-brand%C3%A3o-83280918b)\n",
    "   - [Youtube](https://www.youtube.com/c/AmandaLemette/featured)\n",
    "   \n",
    " - Júlia Potratz\n",
    "\t - prof.julia@ica.ele.puc-rio.br\n",
    "\t - [Linkedin](https://www.linkedin.com/in/julia-potratz)\n",
    "     \n",
    "# Material \n",
    "\n",
    "Reposotório no GitHub: [Python_BI_Master](https://github.com/jupotratz/Python_BI_Master)\n",
    "\n",
    "# Talk 1\n",
    "\n",
    "- **Plano de aula:**\n",
    "\t- Acessar e como abrir o material de aula        \n",
    "  - Introdução \n",
    "      - Lógica de programação (conceitos básicos)\n",
    "      - Exercícios de lógica iterativos (programação em blocos)\n",
    "\n",
    "  - Python\n",
    "    - Variáveis (str, int, float e bool) + operações em geral\n",
    "        - Simbolos caracteristicos integração entre as variáveis (tentar achar exemplos práticos - comunicação com o usuário INPUT, utilizar nmeros inteiros para poisições - FILA, notas de alunos FLOAT)\n",
    "    - Condicionais (if, elif, else)\n",
    "        - Número par e impar, positivo ou negativo, inteiro ou decimal \n",
    "        - Categorias (aprovado, recuperação, nota da recuperação, reprovado)\n",
    "        - Exercício para breakout (exercício do posto de combustível) \n",
    "\n"
   ]
  },
  {
   "cell_type": "markdown",
   "metadata": {
    "id": "5d1PX1ygwZm6"
   },
   "source": [
    "<img src=\"https://github.com/jupotratz/Python_BI_Master/blob/main/Turmas/2021.3/Imagens/sep.png?raw=true\"  width=1000 height=125 />"
   ]
  },
  {
   "cell_type": "markdown",
   "metadata": {
    "id": "jDO4A6ESaFQ3"
   },
   "source": [
    "### Strings\n",
    "\n",
    "As strings são utilizadas em Python para registrar informações de texto. Na verdade, elas são uma sequência, ou seja, uma lista de caracteres e podem ser definidas das seguintes formas:\n",
    "\n",
    "<img src=\"https://github.com/jupotratz/Python_BI_Master/blob/main/Turmas/2021.3/Imagens/str_1.JPG?raw=true\" width=500>\n",
    "\n",
    "\n",
    "|Definição|Característica|Exemplo|Vizualização|\n",
    "|:--:|:--:|:--:|:--:|\n",
    "|<code>'text'</code>|Aspas simples|<code>'Olá Mundo'</code>|Olá Mundo|\n",
    "|<code>\"text\"</code>|Aspas duplas|<code>\"Olá Mundo\"</code>|Olá Mundo|\n",
    "|<code>'''text'''</code>|Três Aspas simples|<code>'''Olá\\nMundo'''</code>|<p>Olá</p><p>mundo</p>|\n",
    "|<code>\"\"\"text\"\"\"</code>|Três Aspas duplas|<code>\"\"\"Olá\\nMundo\"\"\"</code>|<p>Olá</p><p>mundo</p>|\n",
    "\n",
    "\n",
    "\n"
   ]
  },
  {
   "cell_type": "markdown",
   "metadata": {
    "id": "cZtNz0aORAjk"
   },
   "source": [
    "Vamos, agora, criar uma variável chamada **a** e fazer essa variável receber o valor **2** em formato de texto:"
   ]
  },
  {
   "cell_type": "code",
   "execution_count": null,
   "metadata": {
    "id": "kCPpEaoNRAmv"
   },
   "outputs": [],
   "source": [
    "# Solução 1\n",
    "\n",
    "a = '2'\n",
    "\n",
    "#a =\"2\"\n",
    "#a=\"\"\"2\"\"\" \n",
    "#a='''2''' "
   ]
  },
  {
   "cell_type": "code",
   "execution_count": null,
   "metadata": {
    "colab": {
     "base_uri": "https://localhost:8080/"
    },
    "id": "brdh8M_pX8I7",
    "outputId": "bb9f8433-28c6-48b9-8f4f-a25f47bb436e"
   },
   "outputs": [
    {
     "data": {
      "text/plain": [
       "str"
      ]
     },
     "execution_count": 28,
     "metadata": {},
     "output_type": "execute_result"
    }
   ],
   "source": [
    "# Verificando o tipo da variável\n",
    "type(a)"
   ]
  },
  {
   "cell_type": "markdown",
   "metadata": {
    "id": "YrjE1fPsYhZ8"
   },
   "source": [
    "#### Vamos analisar o que acontece quando a gente faz uma operação matemática com essa variável."
   ]
  },
  {
   "cell_type": "code",
   "execution_count": null,
   "metadata": {
    "colab": {
     "base_uri": "https://localhost:8080/",
     "height": 165
    },
    "id": "2bKXeS9LX8Y_",
    "outputId": "a5d88859-588c-4dd2-d619-927c373bafdc"
   },
   "outputs": [
    {
     "ename": "TypeError",
     "evalue": "ignored",
     "output_type": "error",
     "traceback": [
      "\u001b[0;31m---------------------------------------------------------------------------\u001b[0m",
      "\u001b[0;31mTypeError\u001b[0m                                 Traceback (most recent call last)",
      "\u001b[0;32m<ipython-input-29-a917fe5125e3>\u001b[0m in \u001b[0;36m<module>\u001b[0;34m()\u001b[0m\n\u001b[0;32m----> 1\u001b[0;31m \u001b[0ma\u001b[0m\u001b[0;34m+\u001b[0m\u001b[0;36m2\u001b[0m\u001b[0;34m\u001b[0m\u001b[0;34m\u001b[0m\u001b[0m\n\u001b[0m",
      "\u001b[0;31mTypeError\u001b[0m: can only concatenate str (not \"int\") to str"
     ]
    }
   ],
   "source": [
    "a+2"
   ]
  },
  {
   "cell_type": "code",
   "execution_count": null,
   "metadata": {
    "colab": {
     "base_uri": "https://localhost:8080/",
     "height": 165
    },
    "id": "LwvDsgReY2lr",
    "outputId": "9730f0b8-9077-426b-e7ba-14913d177912"
   },
   "outputs": [
    {
     "ename": "TypeError",
     "evalue": "ignored",
     "output_type": "error",
     "traceback": [
      "\u001b[0;31m---------------------------------------------------------------------------\u001b[0m",
      "\u001b[0;31mTypeError\u001b[0m                                 Traceback (most recent call last)",
      "\u001b[0;32m<ipython-input-30-9dbb47c1a93a>\u001b[0m in \u001b[0;36m<module>\u001b[0;34m()\u001b[0m\n\u001b[0;32m----> 1\u001b[0;31m \u001b[0ma\u001b[0m\u001b[0;34m-\u001b[0m\u001b[0;36m2\u001b[0m\u001b[0;34m\u001b[0m\u001b[0;34m\u001b[0m\u001b[0m\n\u001b[0m",
      "\u001b[0;31mTypeError\u001b[0m: unsupported operand type(s) for -: 'str' and 'int'"
     ]
    }
   ],
   "source": [
    "a-2"
   ]
  },
  {
   "cell_type": "code",
   "execution_count": null,
   "metadata": {
    "colab": {
     "base_uri": "https://localhost:8080/",
     "height": 165
    },
    "id": "RM3StqtaX8kG",
    "outputId": "98f07608-a7ba-49d3-fdac-b2ff23d2fa13"
   },
   "outputs": [
    {
     "ename": "TypeError",
     "evalue": "ignored",
     "output_type": "error",
     "traceback": [
      "\u001b[0;31m---------------------------------------------------------------------------\u001b[0m",
      "\u001b[0;31mTypeError\u001b[0m                                 Traceback (most recent call last)",
      "\u001b[0;32m<ipython-input-31-92d60c1a447d>\u001b[0m in \u001b[0;36m<module>\u001b[0;34m()\u001b[0m\n\u001b[0;32m----> 1\u001b[0;31m \u001b[0ma\u001b[0m\u001b[0;34m/\u001b[0m\u001b[0;36m2\u001b[0m\u001b[0;34m\u001b[0m\u001b[0;34m\u001b[0m\u001b[0m\n\u001b[0m",
      "\u001b[0;31mTypeError\u001b[0m: unsupported operand type(s) for /: 'str' and 'int'"
     ]
    }
   ],
   "source": [
    "a/2"
   ]
  },
  {
   "cell_type": "code",
   "execution_count": null,
   "metadata": {
    "colab": {
     "base_uri": "https://localhost:8080/",
     "height": 35
    },
    "id": "9LBZSdGKY0Hz",
    "outputId": "c0f53b21-2a4f-43ef-8c4e-1a2da089363a"
   },
   "outputs": [
    {
     "data": {
      "application/vnd.google.colaboratory.intrinsic+json": {
       "type": "string"
      },
      "text/plain": [
       "'222'"
      ]
     },
     "execution_count": 33,
     "metadata": {},
     "output_type": "execute_result"
    }
   ],
   "source": [
    "a*3"
   ]
  },
  {
   "cell_type": "code",
   "execution_count": null,
   "metadata": {
    "colab": {
     "base_uri": "https://localhost:8080/"
    },
    "id": "uaPqA4IgOm24",
    "outputId": "316376b6-e8e7-4c78-c555-7b90796425a5"
   },
   "outputs": [
    {
     "data": {
      "text/plain": [
       "6"
      ]
     },
     "execution_count": 34,
     "metadata": {},
     "output_type": "execute_result"
    }
   ],
   "source": [
    "int(a)*3"
   ]
  },
  {
   "cell_type": "markdown",
   "metadata": {
    "id": "6Cu943CwRAoj"
   },
   "source": [
    "### Alguns método atrelados ao tipo de dados string\n",
    "\n",
    "|Método|Parâmetros|Descrição|\n",
    "|--|--|--|\n",
    "|upper|nenhum|Retorna uma string toda em maiúsculas|\n",
    "|lower|nenhum|Retorna uma string toda em minúsculas|\n",
    "|capitalize|nenhum|Retorna uma string com o primeiro caractere maiúsculo, e o resto em minúsculo|\n",
    "|lstrip|nenhum|Retorna uma string removendo caracteres em brando do início|\n",
    "|rstrip|nenhum|Retorna uma string removendo caracteres em brando do fim|\n",
    "|count|item|Retorna o número de ocorrências de item|\n",
    "|replace|old, new|Substitui todas as ocorrências do substring old por new|\n",
    "|find|item|Retorna o índice mais à esquerda onde o substring item é encontrado|\n",
    "|rfind|item|Retorna o índice mais à direita onde o substring item é encontrado|\n",
    "|index|item|Como find, mas causa um erro em tempo de execução caso item não seja encontrado|\n",
    "\n"
   ]
  },
  {
   "cell_type": "code",
   "execution_count": null,
   "metadata": {
    "id": "FPtMt5FTPGXg"
   },
   "outputs": [],
   "source": []
  },
  {
   "cell_type": "markdown",
   "metadata": {
    "id": "ctIJKe7VRAqP"
   },
   "source": [
    "- Vamos aplicar alguns desses métodos para testar\n",
    "  - .upper()\n",
    "\n",
    "<img src=\"https://github.com/jupotratz/Python_BI_Master/blob/main/Turmas/2021.3/Imagens/str_upper.JPG?raw=true\" width=550>\n",
    "\n"
   ]
  },
  {
   "cell_type": "code",
   "execution_count": null,
   "metadata": {
    "colab": {
     "base_uri": "https://localhost:8080/",
     "height": 35
    },
    "id": "FoFcjoc5Ji0-",
    "outputId": "7ddf445e-e2e2-4691-ce7b-77526c26c09d"
   },
   "outputs": [
    {
     "data": {
      "application/vnd.google.colaboratory.intrinsic+json": {
       "type": "string"
      },
      "text/plain": [
       "'HELLO WORLD!'"
      ]
     },
     "execution_count": 13,
     "metadata": {},
     "output_type": "execute_result"
    }
   ],
   "source": [
    "string = 'Hello World!'\n",
    "string.upper()"
   ]
  },
  {
   "cell_type": "markdown",
   "metadata": {
    "id": "Wvt-wCoDns4S"
   },
   "source": [
    "- Vamos aplicar alguns desses métodos para testar\n",
    "    - .lower()\n",
    "\n",
    "<img src=\"https://github.com/jupotratz/Python_BI_Master/blob/main/Turmas/2021.3/Imagens/str_lower.JPG?raw=true\" width=550>"
   ]
  },
  {
   "cell_type": "code",
   "execution_count": null,
   "metadata": {
    "colab": {
     "base_uri": "https://localhost:8080/",
     "height": 35
    },
    "id": "vOz9YFpjnN4t",
    "outputId": "2a1f88c9-4c4a-4b59-e313-498470bd8b13"
   },
   "outputs": [
    {
     "data": {
      "application/vnd.google.colaboratory.intrinsic+json": {
       "type": "string"
      },
      "text/plain": [
       "'hello world!'"
      ]
     },
     "execution_count": 11,
     "metadata": {},
     "output_type": "execute_result"
    }
   ],
   "source": [
    "string = 'Hello World!'\n",
    "string.lower()"
   ]
  },
  {
   "cell_type": "markdown",
   "metadata": {
    "id": "XLKT4ALYn89s"
   },
   "source": [
    "- Vamos aplicar alguns desses métodos para testar\n",
    "    - .replace(old, new)\n",
    "\n",
    "<img src=\"https://github.com/jupotratz/Python_BI_Master/blob/main/Turmas/2021.3/Imagens/str_replace.JPG?raw=true\" width=550>"
   ]
  },
  {
   "cell_type": "code",
   "execution_count": null,
   "metadata": {
    "colab": {
     "base_uri": "https://localhost:8080/",
     "height": 35
    },
    "id": "vXAibIZUnReK",
    "outputId": "d0ec07f2-78dd-4275-80bf-e29607b4cad0"
   },
   "outputs": [
    {
     "data": {
      "application/vnd.google.colaboratory.intrinsic+json": {
       "type": "string"
      },
      "text/plain": [
       "'Hell_ W_rld!'"
      ]
     },
     "execution_count": 14,
     "metadata": {},
     "output_type": "execute_result"
    }
   ],
   "source": [
    "string = 'Hello World!'\n",
    "old = 'o'\n",
    "new = '_'\n",
    "\n",
    "string.replace(old, new)"
   ]
  },
  {
   "cell_type": "markdown",
   "metadata": {
    "id": "be5hSJDIn9Ec"
   },
   "source": [
    "- Vamos aplicar alguns desses métodos para testar\n",
    "    - .replace(old, new)\n",
    "\n",
    "<img src=\"https://github.com/jupotratz/Python_BI_Master/blob/main/Turmas/2021.3/Imagens/str_split.JPG?raw=true\" width=550>"
   ]
  },
  {
   "cell_type": "code",
   "execution_count": null,
   "metadata": {
    "colab": {
     "base_uri": "https://localhost:8080/"
    },
    "id": "utCaT0t_oJB7",
    "outputId": "9db199f6-3183-4272-cfbc-c0ddc9ff92ff"
   },
   "outputs": [
    {
     "data": {
      "text/plain": [
       "['Hell', ' W', 'rld!']"
      ]
     },
     "execution_count": 15,
     "metadata": {},
     "output_type": "execute_result"
    }
   ],
   "source": [
    "string = 'Hello World!'\n",
    "string.split('o')"
   ]
  },
  {
   "cell_type": "markdown",
   "metadata": {
    "id": "wkkrYexwo3Cy"
   },
   "source": [
    "### Mas vamos retornar para a nossa variável que estava guardando a informação do número 2"
   ]
  },
  {
   "cell_type": "code",
   "execution_count": null,
   "metadata": {
    "colab": {
     "base_uri": "https://localhost:8080/"
    },
    "id": "eduhNO2oocZX",
    "outputId": "69ee2a2c-aa07-417b-f0b6-5e5c46145753"
   },
   "outputs": [
    {
     "name": "stdout",
     "output_type": "stream",
     "text": [
      "2\n"
     ]
    }
   ],
   "source": [
    "a = '2'\n",
    "print(a)"
   ]
  },
  {
   "cell_type": "markdown",
   "metadata": {
    "id": "i-NZSbTqpMGA"
   },
   "source": [
    "### Será que a gente consegue transformar essa variável em número, já que ela é um número?\n",
    "\n",
    "- Podemos usar as funções reservadas do python atreladas aos tipos das variáveis como a função <code>.int()</code> ou a função <code>.float()</code>"
   ]
  },
  {
   "cell_type": "code",
   "execution_count": null,
   "metadata": {
    "colab": {
     "base_uri": "https://localhost:8080/"
    },
    "id": "nFxvo6sCpBxb",
    "outputId": "6167ef0e-7414-4cb4-a5e3-56c05ffacdd0"
   },
   "outputs": [
    {
     "name": "stdout",
     "output_type": "stream",
     "text": [
      "2\n"
     ]
    }
   ],
   "source": [
    "a_int = int(a)\n",
    "print(a_int)"
   ]
  },
  {
   "cell_type": "code",
   "execution_count": null,
   "metadata": {
    "colab": {
     "base_uri": "https://localhost:8080/"
    },
    "id": "LH2oyILvq2Lj",
    "outputId": "41b31a64-b724-47ac-e043-40851045eefb"
   },
   "outputs": [
    {
     "data": {
      "text/plain": [
       "int"
      ]
     },
     "execution_count": 21,
     "metadata": {},
     "output_type": "execute_result"
    }
   ],
   "source": [
    "type(a_int)"
   ]
  },
  {
   "cell_type": "code",
   "execution_count": null,
   "metadata": {
    "colab": {
     "base_uri": "https://localhost:8080/"
    },
    "id": "Xzl3ujPEqsJl",
    "outputId": "2a161069-59a2-4f4c-d799-8e886246d757"
   },
   "outputs": [
    {
     "name": "stdout",
     "output_type": "stream",
     "text": [
      "2.0\n"
     ]
    }
   ],
   "source": [
    "a_float = float(a)\n",
    "print(a_float)"
   ]
  },
  {
   "cell_type": "code",
   "execution_count": null,
   "metadata": {
    "colab": {
     "base_uri": "https://localhost:8080/"
    },
    "id": "B_aoFZsHq4XE",
    "outputId": "6e3cebb2-4400-4482-8704-918bc8846cb9"
   },
   "outputs": [
    {
     "data": {
      "text/plain": [
       "float"
      ]
     },
     "execution_count": 23,
     "metadata": {},
     "output_type": "execute_result"
    }
   ],
   "source": [
    "type(a_float)"
   ]
  },
  {
   "cell_type": "markdown",
   "metadata": {
    "id": "KCUue4oSNpdk"
   },
   "source": [
    "### input( )\n",
    "\n",
    "Observação: o input no Python é uma forma de inserir no código uma interação vinda do usuário. \n",
    "\n",
    "<img src=\"https://github.com/jupotratz/Python_BI_Master/blob/main/Turmas/2021.3/Imagens/programar.png?raw=true\" width=400>\n",
    "\n",
    "- O input sempre vai fornecer para o código uma informação do tipo \"textual\" (string | **str**) e temos que manipular essa informação da melhor forma possível.\n",
    "\n",
    "\n"
   ]
  },
  {
   "cell_type": "markdown",
   "metadata": {
    "id": "X_I6zMpkq502"
   },
   "source": [
    "### Operações\n",
    "\n",
    "Podem ser de três tipos:\n",
    "\n",
    "1. Operações aritmeticas (operações matemáticas)\n",
    "\n",
    "|Simbolo|Operação|Descrição|\n",
    "|:--:|:--:|---|\n",
    "|**+**|a**+**b|Soma o valor de **a** e **b**|\n",
    "|**-**|a**-**b|Subtria **b** e **a**|\n",
    "|**\\***|a**\\***b|Multiplica **a** por **b**|\n",
    "|**/**|a**/**b|Divide **a** por **b**|\n",
    "|**//**|a**//**b|Retorna a **parte inteira** da divisão e **a** po **b**|\n",
    "|**\\*\\***|a**\\*\\***b|Eleva **a** a potência de **b**|\n",
    "|**%**|a**%**b|Retorna o **resto da divisão** de **a** por **b**|\n",
    "\n"
   ]
  },
  {
   "cell_type": "code",
   "execution_count": null,
   "metadata": {
    "id": "_bGMpVTStFfn"
   },
   "outputs": [],
   "source": [
    "a = 10\n",
    "b = 4\n",
    "\n",
    "#a,b = 10,4"
   ]
  },
  {
   "cell_type": "markdown",
   "metadata": {
    "id": "7eaCLxgptxLP"
   },
   "source": [
    "- Soma"
   ]
  },
  {
   "cell_type": "code",
   "execution_count": null,
   "metadata": {
    "colab": {
     "base_uri": "https://localhost:8080/"
    },
    "id": "z-l_pkivtwHM",
    "outputId": "89cd5fbe-33d6-4d66-971d-2af496894f4e"
   },
   "outputs": [
    {
     "data": {
      "text/plain": [
       "14"
      ]
     },
     "execution_count": 33,
     "metadata": {},
     "output_type": "execute_result"
    }
   ],
   "source": [
    "a,b = 10,4\n",
    "a + b"
   ]
  },
  {
   "cell_type": "markdown",
   "metadata": {
    "id": "WnbQuzr8tyvI"
   },
   "source": [
    "- Subtração"
   ]
  },
  {
   "cell_type": "code",
   "execution_count": null,
   "metadata": {
    "colab": {
     "base_uri": "https://localhost:8080/"
    },
    "id": "Sz-B_3IhtwNZ",
    "outputId": "02c1bbaa-0ee3-4cfe-aae5-8e6c6d38439b"
   },
   "outputs": [
    {
     "data": {
      "text/plain": [
       "6"
      ]
     },
     "execution_count": 34,
     "metadata": {},
     "output_type": "execute_result"
    }
   ],
   "source": [
    "a,b = 10,4\n",
    "a -b"
   ]
  },
  {
   "cell_type": "markdown",
   "metadata": {
    "id": "PTEjEmXvt0m_"
   },
   "source": [
    "- Multiplicação"
   ]
  },
  {
   "cell_type": "code",
   "execution_count": null,
   "metadata": {
    "colab": {
     "base_uri": "https://localhost:8080/"
    },
    "id": "2UlpKpKctwSw",
    "outputId": "71ecdbc5-7bbb-4172-9997-31d607e98354"
   },
   "outputs": [
    {
     "data": {
      "text/plain": [
       "40"
      ]
     },
     "execution_count": 35,
     "metadata": {},
     "output_type": "execute_result"
    }
   ],
   "source": [
    "a,b = 10,4\n",
    "a * b"
   ]
  },
  {
   "cell_type": "markdown",
   "metadata": {
    "id": "XETj3hizt3gd"
   },
   "source": [
    "- Divisão"
   ]
  },
  {
   "cell_type": "code",
   "execution_count": null,
   "metadata": {
    "colab": {
     "base_uri": "https://localhost:8080/"
    },
    "id": "MUalU5nQtwa8",
    "outputId": "91203667-aac0-4ce6-fa30-f79d50716683"
   },
   "outputs": [
    {
     "data": {
      "text/plain": [
       "2.5"
      ]
     },
     "execution_count": 36,
     "metadata": {},
     "output_type": "execute_result"
    }
   ],
   "source": [
    "a,b = 10,4\n",
    "a / b"
   ]
  },
  {
   "cell_type": "markdown",
   "metadata": {
    "id": "JQnUEiDvt5YL"
   },
   "source": [
    "- Parte inteira da divisão"
   ]
  },
  {
   "cell_type": "code",
   "execution_count": null,
   "metadata": {
    "colab": {
     "base_uri": "https://localhost:8080/"
    },
    "id": "YW0yr1ugtwe9",
    "outputId": "5172480a-c5cc-42a2-be94-008da03c577d"
   },
   "outputs": [
    {
     "data": {
      "text/plain": [
       "2"
      ]
     },
     "execution_count": 37,
     "metadata": {},
     "output_type": "execute_result"
    }
   ],
   "source": [
    "a,b = 10,4\n",
    "a // b"
   ]
  },
  {
   "cell_type": "markdown",
   "metadata": {
    "id": "DXKTW_ZQt7W2"
   },
   "source": [
    "- Resto da divisão"
   ]
  },
  {
   "cell_type": "code",
   "execution_count": null,
   "metadata": {
    "colab": {
     "base_uri": "https://localhost:8080/"
    },
    "id": "xG5lXca0t91e",
    "outputId": "3b4803df-939d-45ba-a64e-bede51429449"
   },
   "outputs": [
    {
     "data": {
      "text/plain": [
       "2"
      ]
     },
     "execution_count": 38,
     "metadata": {},
     "output_type": "execute_result"
    }
   ],
   "source": [
    "a,b = 10,4\n",
    "a % b"
   ]
  },
  {
   "cell_type": "markdown",
   "metadata": {
    "id": "dGKo6V-OtE9O"
   },
   "source": [
    "2. Operações relacionais (comparação entre valores)\n",
    "\n",
    "\n",
    "|Simbolo|Operação|Descrição|\n",
    "|:--:|:--:|---|\n",
    "|**==**|a**==**b|Verifica de **a** é igual a **b**|\n",
    "|**!=**|a**!=**b|Verifica se **a** é diferente de **b**|\n",
    "|**>**|a**>**b|Verifica se **a** é maior que **b**|\n",
    "|**<**|a**<**b|Verifica se **a** é menor que **b**|\n",
    "|**>.=**|a**>=**b|Verifica se **a** é maior ou igual a **b**|\n",
    "|**<=**|a**<=**b|Verifica se **a** é menor ou igual a **b**|\n"
   ]
  },
  {
   "cell_type": "code",
   "execution_count": null,
   "metadata": {
    "id": "wrEUrtnPrRt1"
   },
   "outputs": [],
   "source": [
    "a,b = 10,4"
   ]
  },
  {
   "cell_type": "markdown",
   "metadata": {
    "id": "xio-C_y1uYH3"
   },
   "source": [
    "- Igualdade"
   ]
  },
  {
   "cell_type": "code",
   "execution_count": null,
   "metadata": {
    "colab": {
     "base_uri": "https://localhost:8080/"
    },
    "id": "GCR15rPyuVWU",
    "outputId": "6a0ec76f-e1e5-421c-eacb-52ff1de42b53"
   },
   "outputs": [
    {
     "data": {
      "text/plain": [
       "False"
      ]
     },
     "execution_count": 41,
     "metadata": {},
     "output_type": "execute_result"
    }
   ],
   "source": [
    "a == b"
   ]
  },
  {
   "cell_type": "markdown",
   "metadata": {
    "id": "pMXoP14VuXgo"
   },
   "source": [
    "- Desigualdade"
   ]
  },
  {
   "cell_type": "code",
   "execution_count": null,
   "metadata": {
    "colab": {
     "base_uri": "https://localhost:8080/"
    },
    "id": "zgUVxR-8ucwn",
    "outputId": "0856e48f-7de3-4496-ce9b-ede558e4363c"
   },
   "outputs": [
    {
     "data": {
      "text/plain": [
       "True"
      ]
     },
     "execution_count": 40,
     "metadata": {},
     "output_type": "execute_result"
    }
   ],
   "source": [
    "a != b"
   ]
  },
  {
   "cell_type": "markdown",
   "metadata": {
    "id": "pV5UZyjruc6T"
   },
   "source": [
    "#### Dados Booleanos \n",
    "\n",
    "São dados relacionados a tomadas de decição dentro dos programas em Python. Existem apenas dois dados desse tipo:\n",
    "\n",
    "- **True**\n",
    "- **False**"
   ]
  },
  {
   "cell_type": "code",
   "execution_count": null,
   "metadata": {
    "colab": {
     "base_uri": "https://localhost:8080/"
    },
    "id": "YOoLAqdKudBz",
    "outputId": "a9650297-3911-45ca-d849-c72e702ed4b8"
   },
   "outputs": [
    {
     "data": {
      "text/plain": [
       "bool"
      ]
     },
     "execution_count": 42,
     "metadata": {},
     "output_type": "execute_result"
    }
   ],
   "source": [
    "type(True)"
   ]
  },
  {
   "cell_type": "code",
   "execution_count": null,
   "metadata": {
    "colab": {
     "base_uri": "https://localhost:8080/"
    },
    "id": "VOmM-weUvDHK",
    "outputId": "0991e44b-41a0-426b-bca0-fcbc02549872"
   },
   "outputs": [
    {
     "data": {
      "text/plain": [
       "bool"
      ]
     },
     "execution_count": 43,
     "metadata": {},
     "output_type": "execute_result"
    }
   ],
   "source": [
    "type(False)"
   ]
  },
  {
   "cell_type": "markdown",
   "metadata": {
    "id": "rmDOu5zcudIt"
   },
   "source": [
    "3. Operadores lógicos (ligados aos conceitos que usamos em problemas de probbilidade)\n",
    "\n",
    "\n",
    "|Simbolo|Operação|Descrição|\n",
    "|:--:|:--:|---|\n",
    "|**not**|a**==**b|Operador de **Negação**, transforma True em False e vice e versa|\n",
    "|**or**|a**!=**b|Operador que resulta em **True** quando PELO MENOS UMA das suas operações relacionais for verdadeira. Caso contrário é **False**|\n",
    "|**and**|a**>**b|Operador que resulta em **True** se TODAS operações relacionais for verdadeira. Caso contrário é **False**|\n",
    "\n",
    "\n",
    " **Exemplo 1** \n",
    "\n",
    "Vamo jogar dois dados e duas e verificar se a soma deles é igual a 10 ou não **E** se os dois números sorteados são números pares:\n",
    "\n",
    "<img src=\"http://universidadedatecnologia.com.br/wp-content/uploads/2019/01/dice-300x244.png\" width=200>\n",
    "\n",
    "**Obs:** Para verificar se os números são pares ou não basta verificar um deles!\n",
    "\n"
   ]
  },
  {
   "cell_type": "code",
   "execution_count": null,
   "metadata": {
    "id": "OO_Qmz_FvlXQ"
   },
   "outputs": [],
   "source": [
    "from random import randint \n",
    "\n",
    "# Sorteando dados\n",
    "num_1 = randint(1,6) \n",
    "num_2 = randint(1,6)"
   ]
  },
  {
   "cell_type": "code",
   "execution_count": null,
   "metadata": {
    "colab": {
     "base_uri": "https://localhost:8080/"
    },
    "id": "J0R6l0-nxFhq",
    "outputId": "02b05be1-b49c-4e71-ab30-36504520d117"
   },
   "outputs": [
    {
     "name": "stdout",
     "output_type": "stream",
     "text": [
      "Dado 1: 5\n",
      "Dado 2: 5\n"
     ]
    }
   ],
   "source": [
    "print(f'Dado 1: {num_1}')\n",
    "print(f'Dado 2: {num_2}')"
   ]
  },
  {
   "cell_type": "code",
   "execution_count": null,
   "metadata": {
    "id": "62mhNp03yVJB"
   },
   "outputs": [],
   "source": [
    "soma = num_1 + num_2"
   ]
  },
  {
   "cell_type": "code",
   "execution_count": null,
   "metadata": {
    "colab": {
     "base_uri": "https://localhost:8080/"
    },
    "id": "Jmqi9_7kymnf",
    "outputId": "f3fc48be-15d6-4bf4-ef76-d6ab0a63c042"
   },
   "outputs": [
    {
     "data": {
      "text/plain": [
       "True"
      ]
     },
     "execution_count": 81,
     "metadata": {},
     "output_type": "execute_result"
    }
   ],
   "source": [
    "# Verificar se a soma dos dois dados é igual a 10\n",
    "soma == 10 "
   ]
  },
  {
   "cell_type": "code",
   "execution_count": null,
   "metadata": {
    "colab": {
     "base_uri": "https://localhost:8080/"
    },
    "id": "P0G0ZdiEzP2b",
    "outputId": "5830d415-98f5-4081-ed1b-d41b17c380dc"
   },
   "outputs": [
    {
     "data": {
      "text/plain": [
       "False"
      ]
     },
     "execution_count": 83,
     "metadata": {},
     "output_type": "execute_result"
    }
   ],
   "source": [
    "# Verificar se os valores de ambos os dados são positivos ou negativos\n",
    "num_1 % 2 == 0"
   ]
  },
  {
   "cell_type": "code",
   "execution_count": null,
   "metadata": {
    "colab": {
     "base_uri": "https://localhost:8080/"
    },
    "id": "d_CXOCmqzP5r",
    "outputId": "22def0be-22ef-4052-bbe3-bf827449f64e"
   },
   "outputs": [
    {
     "data": {
      "text/plain": [
       "False"
      ]
     },
     "execution_count": 85,
     "metadata": {},
     "output_type": "execute_result"
    }
   ],
   "source": [
    "# Juntando os dois testes de relação com o operador and\n",
    "soma == 10 and num_1 % 2 == 0"
   ]
  },
  {
   "cell_type": "markdown",
   "metadata": {
    "id": "f_HdtyGYyRlS"
   },
   "source": [
    " **Exemplo 2** \n",
    "\n",
    "Vamo jogar dois dados e duas e verificar se a soma deles é igual a 10 ou não **OU** se os dois números sorteados são números pares:\n",
    "\n",
    "<img src=\"http://universidadedatecnologia.com.br/wp-content/uploads/2019/01/dice-300x244.png\" width=200>"
   ]
  },
  {
   "cell_type": "code",
   "execution_count": null,
   "metadata": {
    "id": "gwJfC1PUxGYr"
   },
   "outputs": [],
   "source": [
    "from random import randint \n",
    "\n",
    "# Sorteando dados\n",
    "num_1 = randint(1,6) \n",
    "num_2 = randint(1,6)"
   ]
  },
  {
   "cell_type": "code",
   "execution_count": null,
   "metadata": {
    "colab": {
     "base_uri": "https://localhost:8080/"
    },
    "id": "TcYlbrchxHuL",
    "outputId": "4dce9376-0098-4ac0-f457-90e6f83c752c"
   },
   "outputs": [
    {
     "name": "stdout",
     "output_type": "stream",
     "text": [
      "Dado 1: 5\n",
      "Dado 2: 2\n"
     ]
    }
   ],
   "source": [
    "print(f'Dado 1: {num_1}')\n",
    "print(f'Dado 2: {num_2}')"
   ]
  },
  {
   "cell_type": "code",
   "execution_count": null,
   "metadata": {
    "id": "bWMnci90zoLS"
   },
   "outputs": [],
   "source": [
    "soma = num_1 + num_2"
   ]
  },
  {
   "cell_type": "code",
   "execution_count": null,
   "metadata": {
    "colab": {
     "base_uri": "https://localhost:8080/"
    },
    "id": "sAu-oUNWzz2I",
    "outputId": "fb3b720b-fccd-4caf-83de-472dba8fc325"
   },
   "outputs": [
    {
     "data": {
      "text/plain": [
       "False"
      ]
     },
     "execution_count": 89,
     "metadata": {},
     "output_type": "execute_result"
    }
   ],
   "source": [
    "# Verificar se a soma dos dois dados é igual a 10\n",
    "soma == 10 "
   ]
  },
  {
   "cell_type": "code",
   "execution_count": null,
   "metadata": {
    "colab": {
     "base_uri": "https://localhost:8080/"
    },
    "id": "O-LPLnDdz0L3",
    "outputId": "85ca9bed-40db-4904-9e53-0741bdbdd731"
   },
   "outputs": [
    {
     "data": {
      "text/plain": [
       "False"
      ]
     },
     "execution_count": 90,
     "metadata": {},
     "output_type": "execute_result"
    }
   ],
   "source": [
    "# Verificar se os valores de ambos os dados são positivos ou negativos\n",
    "num_1 % 2 == 0"
   ]
  },
  {
   "cell_type": "code",
   "execution_count": null,
   "metadata": {
    "colab": {
     "base_uri": "https://localhost:8080/"
    },
    "id": "U8gGazDgz2v4",
    "outputId": "30221bcf-166f-4523-ddc1-9be7e9a94c36"
   },
   "outputs": [
    {
     "data": {
      "text/plain": [
       "False"
      ]
     },
     "execution_count": 91,
     "metadata": {},
     "output_type": "execute_result"
    }
   ],
   "source": [
    "# Juntando os dois testes de relação com o operador or\n",
    "soma == 10 or num_1 % 2 == 0"
   ]
  },
  {
   "cell_type": "code",
   "execution_count": null,
   "metadata": {
    "id": "B-yddU5Rz6TA"
   },
   "outputs": [],
   "source": []
  },
  {
   "cell_type": "markdown",
   "metadata": {
    "id": "n8JueD5j07Kg"
   },
   "source": [
    "# Condicionais\n",
    "---\n",
    "\n",
    "Vimos que podemos criar e realizar tranformações nas variáveis de acordo com o tipo de cada uma por meio das suas funções / métodos ou por meio dos diferentes operadores que existem. \n",
    "\n",
    "Diante disso a gente já pode começar a construir a solução de problemas mais complexos e mais robustos. \n",
    "\n",
    "Antes de partir para a prática é bom entender o que é uma estrutura condicional, isso é bem simples, mas é importante que entenda bem!\n",
    "\n",
    "Uma estrutura condicional, como o próprio nome já diz é uma estrutura que vai analisar uma condição e baseado no resultado dessa condição é que vamos executar uma determinada ação.\n",
    "\n",
    "No python a sintaxe da estrutura condicional é da seguinte forma:\n",
    "\n",
    "<img src=\"https://github.com/jupotratz/Python_BI_Master/blob/main/Turmas/2021.3/Imagens/bloco_condicao.JPG?raw=true\" width=500>\n",
    "\n",
    "No formato de código:\n",
    "\n",
    "```\n",
    "if condição_1:\n",
    "  executar ação 1\n",
    "elif condição_2:\n",
    "  execute ação 2\n",
    "else:\n",
    "  execute a ação 3\n",
    "```\n",
    "\n"
   ]
  },
  {
   "cell_type": "markdown",
   "metadata": {
    "id": "C2oaYZ5mJ3De"
   },
   "source": [
    "## IF\n",
    "\n",
    "-  IF vai executar uma ação somente se a condição testada for verdadeira. Para isso é necessário testar uma condição:\n",
    "\n",
    "<img src=\"https://www.hashtagtreinamentos.com/wp-content/webp-express/webp-images/doc-root/wp-content/uploads/2021/07/Estruturas-Condicionais-no-Python-2.png.webp\">"
   ]
  },
  {
   "cell_type": "code",
   "execution_count": null,
   "metadata": {
    "colab": {
     "base_uri": "https://localhost:8080/"
    },
    "id": "oUMS-GRHJ2bI",
    "outputId": "d0bf9a2a-515a-49a4-b483-b0aa0c02b88f"
   },
   "outputs": [
    {
     "name": "stdout",
     "output_type": "stream",
     "text": [
      "Condição verdadeira\n"
     ]
    }
   ],
   "source": [
    "variavel = True\n",
    "\n",
    "if variavel:\n",
    "  print('Condição verdadeira')"
   ]
  },
  {
   "cell_type": "code",
   "execution_count": null,
   "metadata": {
    "colab": {
     "base_uri": "https://localhost:8080/"
    },
    "id": "YE4DoBSjJ2gf",
    "outputId": "0d8bb100-3cdf-4afb-bc60-0199b8edf9d7"
   },
   "outputs": [
    {
     "name": "stdout",
     "output_type": "stream",
     "text": [
      "A variável a é diferente da variável b\n"
     ]
    }
   ],
   "source": [
    "a = 10\n",
    "b = 4\n",
    "\n",
    "if a!=b:\n",
    "  print(f'A variável a é diferente da variável b')"
   ]
  },
  {
   "cell_type": "markdown",
   "metadata": {
    "id": "sxySuOrKLJdF"
   },
   "source": [
    "## ELSE\n",
    "\n",
    "A função ELSE (que seria o **senão**) é utilizada para pagar o casos Falso da condição que foi testada no **IF**.\n"
   ]
  },
  {
   "cell_type": "code",
   "execution_count": null,
   "metadata": {
    "colab": {
     "base_uri": "https://localhost:8080/"
    },
    "id": "vmH9eJaoJ2oL",
    "outputId": "565550de-2b9b-4790-d772-91c17e4c4c25"
   },
   "outputs": [
    {
     "name": "stdout",
     "output_type": "stream",
     "text": [
      "A variável a é igual a variável b\n"
     ]
    }
   ],
   "source": [
    "a = 4\n",
    "b = 4\n",
    "\n",
    "if a!=b:\n",
    "  print(f'A variável a é diferente da variável b')\n",
    "else:\n",
    "  print(f'A variável a é igual a variável b')"
   ]
  },
  {
   "cell_type": "markdown",
   "metadata": {
    "id": "tcJ_Hj9hLo2S"
   },
   "source": [
    "## ELIF\n",
    "\n",
    "Só que algumas vezes nós precisamos de mais de 2 resultados, como por exemplo um semáforo de trânsito.\n",
    "\n",
    "Se tivermos verde, quer dizer que podemos passar, mas no amarelo já precisamos de atenção e no vermelho precisamos parar.\n",
    "\n",
    "Então ao invés de utilizar 3 vezes a função IF ou usar IF ELSE e depois outro IF, nós temos a função ELIF, que seria basicamente a junção de um ELSE + IF."
   ]
  },
  {
   "cell_type": "code",
   "execution_count": null,
   "metadata": {
    "colab": {
     "base_uri": "https://localhost:8080/"
    },
    "id": "YIAmZk2mLo-r",
    "outputId": "d550d9b1-6d3c-4e5a-a0ab-f1dc458d458b"
   },
   "outputs": [
    {
     "name": "stdout",
     "output_type": "stream",
     "text": [
      "Parar\n"
     ]
    }
   ],
   "source": [
    "cor =\"vermelho\"\n",
    "\n",
    "if cor == 'verde':\n",
    "  print('Acelerar')\n",
    "elif cor == 'Amarelo':\n",
    "  print('Atenção')\n",
    "else:\n",
    "  print('Parar')"
   ]
  },
  {
   "cell_type": "markdown",
   "metadata": {
    "id": "0_O5SLl2MYCo"
   },
   "source": [
    "### Obs: Oque aconteceria se eu colocasse a variavel cor igual a roxo?\n",
    "\n",
    "<img src=\"https://dicasdamaia.files.wordpress.com/2017/12/duvida.png?w=190\" width=200>"
   ]
  },
  {
   "cell_type": "code",
   "execution_count": null,
   "metadata": {
    "colab": {
     "base_uri": "https://localhost:8080/"
    },
    "id": "utNhs1LgMxbU",
    "outputId": "fdce34c4-e694-4719-ac2b-8593d2e74ab3"
   },
   "outputs": [
    {
     "name": "stdout",
     "output_type": "stream",
     "text": [
      "Parar\n"
     ]
    }
   ],
   "source": [
    "cor =\"roxo\"\n",
    "\n",
    "if cor == 'verde':\n",
    "  print('Acelerar')\n",
    "elif cor == 'Amarelo':\n",
    "  print('Atenção')\n",
    "else:\n",
    "  print('Parar')"
   ]
  },
  {
   "cell_type": "markdown",
   "metadata": {
    "id": "BfocoSIdVmuF"
   },
   "source": [
    "### Relembrando\n",
    "\n",
    "\n",
    "<img src=\"https://github.com/jupotratz/Python_BI_Master/blob/main/Turmas/2021.3/Imagens/if_elif_else.JPG?raw=true0\" width=500>\n"
   ]
  },
  {
   "cell_type": "markdown",
   "metadata": {
    "id": "zvuuJKBT4srF"
   },
   "source": [
    "### Exercícios\n",
    "\n",
    "1. A Mariana decidiu reformar o jardim a sua casa que tem o formato retangular e para isso decidiu comprar tapetes de grama para cobrir toda a superficie do seu quintal. A loja em que mariana escolher comprar a grama vende peças de 1m x 1m (1m²). Construa um sistema para a loja para que informa a quantidade de peças que a Marina, ou outro cliente, vão ter que comprar considerando as dimensões de largura, comprimento e o tamnho das peças.\n",
    "\n",
    "<img src=\"data:image/jpeg;base64,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\">\n",
    "\n",
    "\n"
   ]
  },
  {
   "cell_type": "code",
   "execution_count": null,
   "metadata": {
    "id": "NnSS31rc4uyu"
   },
   "outputs": [],
   "source": []
  },
  {
   "cell_type": "code",
   "execution_count": null,
   "metadata": {
    "id": "ps0ilWAaNmVY"
   },
   "outputs": [],
   "source": []
  },
  {
   "cell_type": "code",
   "execution_count": null,
   "metadata": {
    "id": "PGoiOyXdNmar"
   },
   "outputs": [],
   "source": []
  },
  {
   "cell_type": "code",
   "execution_count": null,
   "metadata": {
    "id": "Ff2Yh67tNmfY"
   },
   "outputs": [],
   "source": []
  },
  {
   "cell_type": "markdown",
   "metadata": {
    "id": "uwU6MO_Q6m7H"
   },
   "source": [
    "2. Leonardo trabalha como analista de dados dentro de uma grande companhia voltada para o setor de comunicação e entretenimento no Brasil. Semanalmente  Leonardo recebe um série de informações sobre ou telespectadores de stremming dessa companhia e tem que gerar uma relatório semanal utilizando esses dados. \n",
    "\n",
    "  Por exemplo ele tem que fazer um levantamento da porcentagem de horas que cada faixa etária de idade está consumindo semanalmente, considerando que ele tem as seguintes faix etárias. \n",
    "\n",
    "|Faixa de idade|Categoria|\n",
    "|:--:|:--:|\n",
    "|idade<12|Criança|\n",
    "|12<=idade<18|Adolecente|\n",
    "|18<=idade<60|Adulto|\n",
    "|idade>60|Idoso|\n",
    "\n",
    "Mas Leonardo não sabe fazer isso de forma prática então toda semana ele acaba perdendo um dia inteiro para categorizar cada uma das pessoas. Vitor vendo o trabalho do seu colega da a ideai dele criar um programa para categorizar automaticamente cada uma das pessoas dentro dessas categorias pré definidas.\n",
    "\n",
    "Objetivo: Fazer um programa que possa categorizar a faixa etária de uma pessoa pela sua idade. Passo a passo a ser seguido:\n",
    "\n",
    "1. Saber a idade da pessoa (dado que vai ser fornecido por alguem)\n",
    "2. Verificar a categoria na qual ela está classificada\n",
    "3. Apresentar o resultado\n"
   ]
  },
  {
   "cell_type": "code",
   "execution_count": null,
   "metadata": {
    "id": "oR1shMF0_Uwv"
   },
   "outputs": [],
   "source": []
  },
  {
   "cell_type": "code",
   "execution_count": null,
   "metadata": {
    "id": "ZnmYksXjNnVE"
   },
   "outputs": [],
   "source": []
  },
  {
   "cell_type": "code",
   "execution_count": null,
   "metadata": {
    "id": "ox6aeqcINncN"
   },
   "outputs": [],
   "source": []
  },
  {
   "cell_type": "code",
   "execution_count": null,
   "metadata": {
    "id": "YM6jJBFVA0cm"
   },
   "outputs": [],
   "source": []
  },
  {
   "cell_type": "markdown",
   "metadata": {
    "id": "K5v_D9sANJQ1"
   },
   "source": [
    "3. Faça um Programa que o usuário forneça números, em seguida pergunte ao usuário qual operação ele deseja realizar (soma, subtração, divisão ou multiplicação) . O resultado da operação deve ser acompanhado de uma frase que diga se o número é:\n",
    "\n",
    "- par ou ímpar;\n",
    "- positivo ou negativo;\n",
    "- inteiro ou decimal.\n"
   ]
  },
  {
   "cell_type": "code",
   "execution_count": null,
   "metadata": {
    "id": "TgAotVAyNlJc"
   },
   "outputs": [],
   "source": []
  },
  {
   "cell_type": "code",
   "execution_count": null,
   "metadata": {
    "id": "GFP83v3BNlM3"
   },
   "outputs": [],
   "source": []
  },
  {
   "cell_type": "code",
   "execution_count": null,
   "metadata": {
    "id": "tqw9dNpcNlRS"
   },
   "outputs": [],
   "source": []
  },
  {
   "cell_type": "code",
   "execution_count": null,
   "metadata": {
    "id": "EYecXuQTNlcq"
   },
   "outputs": [],
   "source": []
  },
  {
   "cell_type": "markdown",
   "metadata": {
    "id": "iab9x1J0A0-t"
   },
   "source": [
    "### Exercício extra\n",
    "\n",
    "Um posto está vendendo combustíveis com a seguinte tabela de descontos:\n",
    "\n",
    "\n",
    "- Álcool:\n",
    "  - Até 20 litros, desconto de 3% por litro\n",
    "  - Acima de 20 litros, desconto de 5% por litro\n",
    "- Gasolina:\n",
    "  - Até 20 litros, desconto de 4% por litro\n",
    "  - Acima de 20 litros, desconto de 6% por litro Escreva um algoritmo que leia \n",
    "\n",
    "\n",
    "O dono do posto quer criar um sistema com base nos descontos oferecidos nessa promoção para calcular o valor final da compra do cliente. \n",
    "\n",
    "Algumas dicas:\n",
    "\n",
    "\n",
    "> Precisamos armazenar as informações necessárias em algum lugar (variaveis)\n",
    "\n",
    ">Devemos prever que os frentistas do posto podem digital alguma informação errada\n",
    "\n",
    "> O tipo de combustível  deve ser codificado da seguinte forma: \n",
    "- A-álcool\n",
    "- G-gasolina \n",
    "- e deve ser fornecido pelo frentista (usuário)\n",
    "\n",
    "> A quantidade de litros também deve ser informada pelo frentista (usuário)\n",
    "\n",
    "> Fornecer o resultado para saber quanto o cliente vai ter que pagar e qual foi o desconto que ele obteve.\n",
    "\n",
    "> Considere o preço do litro da gasolina igual a R\\$ 7,09 e o preço do litro do Alcool igual a R\\$ 5,45\n"
   ]
  },
  {
   "cell_type": "code",
   "execution_count": null,
   "metadata": {
    "id": "tiY3gJDGHAYl"
   },
   "outputs": [],
   "source": []
  },
  {
   "cell_type": "code",
   "execution_count": null,
   "metadata": {
    "id": "yswTq_FfHAdb"
   },
   "outputs": [],
   "source": []
  },
  {
   "cell_type": "code",
   "execution_count": null,
   "metadata": {
    "id": "GLNFNZ4JHAfZ"
   },
   "outputs": [],
   "source": []
  },
  {
   "cell_type": "markdown",
   "metadata": {
    "id": "KS34s7MQHAn1"
   },
   "source": [
    "#### Possível solução - Exercício proposto"
   ]
  },
  {
   "cell_type": "code",
   "execution_count": null,
   "metadata": {
    "id": "9rRprdRcGmer"
   },
   "outputs": [],
   "source": [
    "# Versão melhorada\n",
    "combustiveisValidos = ['A', 'G']\n",
    "litrosVendido = -1\n",
    "while(True):\n",
    "    try:\n",
    "      litrosVendido = float(input('Qual a quantidade de litros vendido? '))\n",
    "      if (litrosVendido >= 0):\n",
    "        break\n",
    "      else:\n",
    "        print('Quantidade informada é negativa!')\n",
    "    except:\n",
    "      print('Quantidade informada não é um número!')\n",
    "\n",
    "combustivelVendido = input('Qual o combustível vendido? (A - Álcool ou G - Gasolina) ').upper()\n",
    "while (combustivelVendido.upper() not in combustiveisValidos):\n",
    "  combustivelVendido = input('Resposta inválida. Qual o combustível vendido? (A - Álcool ou G - Gasolina) ')\n",
    "\n",
    "if (combustivelVendido.upper() == 'A'):\n",
    "  preco = 1.90\n",
    "  if (litrosVendido > 20):\n",
    "    desconto = 0.05 #5%\n",
    "  else: #(litrosVendido <= 20):\n",
    "    desconto = 0.03 #3%\n",
    "else: #(combustivelVendido == 'G'):\n",
    "  preco = 2.50\n",
    "  if (litrosVendido > 20):\n",
    "    desconto = 0.06 #6%\n",
    "  else: #(litrosVendido <= 20):\n",
    "    desconto = 0.04 #4%\n",
    "\n",
    "total = (litrosVendido * preco) - (litrosVendido * preco * desconto)\n",
    "print(f'O valor total é de R${total}')"
   ]
  }
 ],
 "metadata": {
  "colab": {
   "collapsed_sections": [
    "HYcr2loD7ihz",
    "150QQ4qF7ih0",
    "Ef3x63d3AAOt",
    "-b_f7ggSrUrm",
    "MQbZ5HiSMywc",
    "H-7wRTtBOdcC",
    "jDO4A6ESaFQ3",
    "YrjE1fPsYhZ8",
    "6Cu943CwRAoj",
    "wkkrYexwo3Cy",
    "i-NZSbTqpMGA"
   ],
   "name": "Takl_1.ipynb",
   "provenance": []
  },
  "kernelspec": {
   "display_name": "Python 3",
   "language": "python",
   "name": "python3"
  },
  "language_info": {
   "codemirror_mode": {
    "name": "ipython",
    "version": 3
   },
   "file_extension": ".py",
   "mimetype": "text/x-python",
   "name": "python",
   "nbconvert_exporter": "python",
   "pygments_lexer": "ipython3",
   "version": "3.7.0"
  }
 },
 "nbformat": 4,
 "nbformat_minor": 1
}
